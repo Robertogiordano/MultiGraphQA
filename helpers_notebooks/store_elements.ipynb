{
 "cells": [
  {
   "cell_type": "code",
   "execution_count": 38,
   "metadata": {},
   "outputs": [],
   "source": [
    "from typing import Dict, Any\n",
    "from neo4j import GraphDatabase\n",
    "import json\n",
    "import glob\n",
    "import ast"
   ]
  },
  {
   "cell_type": "code",
   "execution_count": 39,
   "metadata": {},
   "outputs": [],
   "source": [
    "def store_element_summary_in_graph(tx, data: Dict[str, Any], doc_id: str, chunks_bounds: tuple):\n",
    "    \"\"\"\n",
    "    Load the summarized graph data into Neo4j.\n",
    "\n",
    "    Args:\n",
    "        tx: Neo4j transaction object.\n",
    "        data (Dict[str, Any]): Summarized nodes and relationships.\n",
    "        doc_id (str): Document ID.\n",
    "        chunks_bounds (tuple): Tuple containing the start and end positions\n",
    "            of the text chunk in the original document.\n",
    "    \"\"\"\n",
    "    \n",
    "    # Creazione dei nodi\n",
    "    for node in data[\"summarized_nodes\"]:\n",
    "        query_create_node = \"\"\"\n",
    "        CREATE (n:SummarizedNode {\n",
    "            title: $title,\n",
    "            summary: $summary,\n",
    "            original_ids: $original_ids,\n",
    "            type: $type,\n",
    "            keywords: $keywords,\n",
    "            doc_id : $doc_id,\n",
    "            chunks_lower_bound: $chunks_lower_bound,\n",
    "            chunks_upper_bound: $chunks_upper_bound\n",
    "        })\n",
    "        \"\"\"\n",
    "        tx.run(\n",
    "            query_create_node,\n",
    "            title=node.get(\"title\"),\n",
    "            summary=node.get(\"summary\"),\n",
    "            original_ids=node.get(\"original_ids\"),\n",
    "            type=node.get(\"type\"),\n",
    "            keywords=node.get(\"keywords\"),\n",
    "            doc_id=doc_id,\n",
    "            chunks_lower_bound=chunks_bounds[0],\n",
    "            chunks_upper_bound=chunks_bounds[1]\n",
    "        )\n",
    "\n",
    "    # Creazione delle relazioni\n",
    "    for rel in data[\"summarized_relationships\"]:\n",
    "        query_create_rel = f\"\"\"\n",
    "        MATCH (source:SummarizedNode {{title: $source_id}})\n",
    "        MATCH (target:SummarizedNode {{title: $target_id}})\n",
    "        CREATE (source)-[:RELATIONSHIP_TYPE {{\n",
    "            type : $relation_type,\n",
    "            weight: $weight,\n",
    "            original_relationships: $original_rels\n",
    "        }}]->(target)\n",
    "        \"\"\"\n",
    "        tx.run(\n",
    "            query_create_rel,\n",
    "            source_id=rel[\"source\"],\n",
    "            target_id=rel[\"target\"],\n",
    "            relation_type=rel[\"relation_type\"],\n",
    "            weight=rel.get(\"weight\", 1),  # default=1 if not provided\n",
    "            original_rels=rel.get(\"original_relationships\", [])\n",
    "        )"
   ]
  },
  {
   "cell_type": "code",
   "execution_count": 40,
   "metadata": {},
   "outputs": [],
   "source": [
    "NEO4J_URI = 'bolt://localhost:7690'\n",
    "NEO4J_USER = 'neo4j'\n",
    "NEO4J_PASSWORD = '12345678'\n",
    "\n",
    "driver = GraphDatabase.driver(NEO4J_URI, auth=(NEO4J_USER, NEO4J_PASSWORD))\n"
   ]
  },
  {
   "cell_type": "code",
   "execution_count": 41,
   "metadata": {},
   "outputs": [],
   "source": [
    "\n",
    "doc_id = \"0704.2547\"\n",
    "PATH_REGEX = f'../data/backup_extraction_nodes/{doc_id}/element_summary/*.json'\n",
    "\n",
    "# Perform a regex to obtain all the files that match the pattern\n",
    "files=glob.glob(PATH_REGEX)\n"
   ]
  },
  {
   "cell_type": "code",
   "execution_count": 42,
   "metadata": {},
   "outputs": [],
   "source": [
    "\n",
    "for file in files:\n",
    "    lim = int(file.split('/')[-1].split('.')[0])\n",
    "\n",
    "    with open(file, 'r') as f:\n",
    "        # Step 1: Load the string file into a dictionary\n",
    "        element_summary = ast.literal_eval(f.read())\n",
    "\n",
    "        with driver.session() as session:\n",
    "                    # Step 7: Store the summary\n",
    "                    session.execute_write(store_element_summary_in_graph, element_summary, doc_id, (lim,lim+25))"
   ]
  },
  {
   "cell_type": "code",
   "execution_count": 43,
   "metadata": {},
   "outputs": [],
   "source": [
    "# Delete all nodes and relationships\n",
    "# with driver.session() as session:\n",
    "#     session.run(\"MATCH (n) DETACH DELETE n\")\n",
    "#     print(\"All nodes and relationships have been deleted.\")"
   ]
  }
 ],
 "metadata": {
  "kernelspec": {
   "display_name": ".conda",
   "language": "python",
   "name": "python3"
  },
  "language_info": {
   "codemirror_mode": {
    "name": "ipython",
    "version": 3
   },
   "file_extension": ".py",
   "mimetype": "text/x-python",
   "name": "python",
   "nbconvert_exporter": "python",
   "pygments_lexer": "ipython3",
   "version": "3.11.11"
  }
 },
 "nbformat": 4,
 "nbformat_minor": 2
}
